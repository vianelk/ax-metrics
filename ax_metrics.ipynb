{
  "nbformat": 4,
  "nbformat_minor": 0,
  "metadata": {
    "colab": {
      "provenance": [],
      "include_colab_link": true
    },
    "kernelspec": {
      "name": "python3",
      "display_name": "Python 3"
    },
    "language_info": {
      "name": "python"
    }
  },
  "cells": [
    {
      "cell_type": "markdown",
      "metadata": {
        "id": "view-in-github",
        "colab_type": "text"
      },
      "source": [
        "<a href=\"https://colab.research.google.com/github/vianelk/ax-metrics/blob/train_model/ax_metrics.ipynb\" target=\"_parent\"><img src=\"https://colab.research.google.com/assets/colab-badge.svg\" alt=\"Open In Colab\"/></a>"
      ]
    },
    {
      "cell_type": "markdown",
      "source": [
        "# Import Libraries"
      ],
      "metadata": {
        "id": "jlK-dVXQroXw"
      }
    },
    {
      "cell_type": "code",
      "source": [
        "import os\n",
        "import numpy as np\n",
        "import pandas as pd\n",
        "import matplotlib.pyplot as plt\n",
        "import seaborn as sns\n",
        "import cv2\n",
        "from sklearn.model_selection import train_test_split\n",
        "from tensorflow.keras.models import Sequential\n",
        "from tensorflow.keras.layers import Conv2D, MaxPooling2D, Flatten, Dense, Dropout, BatchNormalization\n",
        "from tensorflow.keras.preprocessing.image import ImageDataGenerator\n",
        "from tensorflow.keras.utils import to_categorical\n",
        "from sklearn.metrics import classification_report, confusion_matrix"
      ],
      "metadata": {
        "id": "OIj79da4rtN1"
      },
      "execution_count": 3,
      "outputs": []
    },
    {
      "cell_type": "markdown",
      "source": [
        "# Download dataset"
      ],
      "metadata": {
        "id": "oiyR5kQHruNx"
      }
    },
    {
      "cell_type": "code",
      "source": [
        "import kagglehub\n",
        "\n",
        "# Download latest version\n",
        "path = kagglehub.dataset_download(\"sumithsingh/blood-cell-images-for-cancer-detection\")\n",
        "\n",
        "print(\"Path to dataset files:\", path)"
      ],
      "metadata": {
        "colab": {
          "base_uri": "https://localhost:8080/"
        },
        "collapsed": true,
        "id": "NIs_iek-tM8A",
        "outputId": "2077ca16-68fa-41b6-ccae-15ce01b8cde1"
      },
      "execution_count": 8,
      "outputs": [
        {
          "output_type": "stream",
          "name": "stdout",
          "text": [
            "Warning: Looks like you're using an outdated `kagglehub` version (installed: 0.3.6), please consider upgrading to the latest version (0.3.7).\n",
            "Downloading from https://www.kaggle.com/api/v1/datasets/download/sumithsingh/blood-cell-images-for-cancer-detection?dataset_version_number=2...\n"
          ]
        },
        {
          "output_type": "stream",
          "name": "stderr",
          "text": [
            "100%|██████████| 122M/122M [00:01<00:00, 119MB/s]"
          ]
        },
        {
          "output_type": "stream",
          "name": "stdout",
          "text": [
            "Extracting files...\n"
          ]
        },
        {
          "output_type": "stream",
          "name": "stderr",
          "text": [
            "\n"
          ]
        },
        {
          "output_type": "stream",
          "name": "stdout",
          "text": [
            "Path to dataset files: /root/.cache/kagglehub/datasets/sumithsingh/blood-cell-images-for-cancer-detection/versions/2\n"
          ]
        }
      ]
    },
    {
      "cell_type": "code",
      "source": [
        "DATASET_PATH = './kaggle/input/blood-cell-images-for-cancer-detection'"
      ],
      "metadata": {
        "id": "KfXW2GWvu6pz"
      },
      "execution_count": 24,
      "outputs": []
    },
    {
      "cell_type": "code",
      "source": [
        "!mkdir -p {DATASET_PATH}\n",
        "\n",
        "!cp -r {path}/* {DATASET_PATH}/"
      ],
      "metadata": {
        "id": "T3_xoT47uOzE"
      },
      "execution_count": 26,
      "outputs": []
    },
    {
      "cell_type": "markdown",
      "source": [
        "# Setup Project Config"
      ],
      "metadata": {
        "id": "HLbDbtU9yNpd"
      }
    },
    {
      "cell_type": "markdown",
      "source": [
        "Set random seed"
      ],
      "metadata": {
        "id": "j6HWOGz2yn80"
      }
    },
    {
      "cell_type": "code",
      "source": [
        "SEED = 42\n",
        "np.random.seed(SEED)"
      ],
      "metadata": {
        "id": "z6Vob1hnyf_e"
      },
      "execution_count": 30,
      "outputs": []
    },
    {
      "cell_type": "markdown",
      "source": [
        "List classes"
      ],
      "metadata": {
        "id": "fTbCp_mrypai"
      }
    },
    {
      "cell_type": "code",
      "source": [
        "CLASSES = ['basophil', 'erythroblast', 'monocyte', 'myeloblast', 'seg_neutrophil']"
      ],
      "metadata": {
        "id": "hbLnQxc-ytSt"
      },
      "execution_count": 28,
      "outputs": []
    },
    {
      "cell_type": "markdown",
      "source": [
        "Define image size"
      ],
      "metadata": {
        "id": "ZcH_RfXWyiZX"
      }
    },
    {
      "cell_type": "code",
      "source": [
        "IMG_HEIGHT, IMG_WIDTH = 128, 128"
      ],
      "metadata": {
        "id": "vlVVuIG7y6bu"
      },
      "execution_count": 29,
      "outputs": []
    },
    {
      "cell_type": "markdown",
      "source": [
        "# Data Preprocessing"
      ],
      "metadata": {
        "id": "BABUqkZYzGzY"
      }
    },
    {
      "cell_type": "markdown",
      "source": [
        "## Quick Exploration"
      ],
      "metadata": {
        "id": "oIqsPCIl0NmS"
      }
    },
    {
      "cell_type": "markdown",
      "source": [
        "View number of images per class"
      ],
      "metadata": {
        "id": "sF6bQPNEzpKj"
      }
    },
    {
      "cell_type": "code",
      "source": [
        "for class_name in CLASSES:\n",
        "    print(f\"{class_name}: {len(os.listdir(os.path.join(DATASET_PATH, class_name)))} images\")"
      ],
      "metadata": {
        "collapsed": true,
        "colab": {
          "base_uri": "https://localhost:8080/"
        },
        "id": "KjAqMg1szdHQ",
        "outputId": "72129451-900d-4846-99e0-d5fafa6f09f9"
      },
      "execution_count": 31,
      "outputs": [
        {
          "output_type": "stream",
          "name": "stdout",
          "text": [
            "basophil: 1000 images\n",
            "erythroblast: 1000 images\n",
            "monocyte: 1000 images\n",
            "myeloblast: 1000 images\n",
            "seg_neutrophil: 1000 images\n"
          ]
        }
      ]
    },
    {
      "cell_type": "markdown",
      "source": [
        "Load data"
      ],
      "metadata": {
        "id": "6uPC_mokzw8A"
      }
    },
    {
      "cell_type": "code",
      "source": [
        "images = []\n",
        "labels = []"
      ],
      "metadata": {
        "id": "YpcCFjEa0aW0"
      },
      "execution_count": 45,
      "outputs": []
    },
    {
      "cell_type": "code",
      "source": [
        "any_corrupted_files = False\n",
        "\n",
        "for class_index, class_name in enumerate(CLASSES):\n",
        "    folder_path = os.path.join(DATASET_PATH, class_name)\n",
        "    for img_file in os.listdir(folder_path):\n",
        "        try:\n",
        "            img = cv2.imread(os.path.join(folder_path, img_file))\n",
        "            img = cv2.resize(img, (IMG_HEIGHT, IMG_WIDTH))\n",
        "            images.append(img)\n",
        "            labels.append(class_index)\n",
        "        except:\n",
        "            any_corrupted_files = True\n",
        "            print(f\"Corrupt file: {img_file}\")\n",
        "\n",
        "if not any_corrupted_files:\n",
        "    print(\"No corrupted files\")\n",
        "\n",
        "images = np.array(images)\n",
        "labels = np.array(labels)"
      ],
      "metadata": {
        "colab": {
          "base_uri": "https://localhost:8080/"
        },
        "id": "_bdyPUR8zfbb",
        "outputId": "aa2fc804-2933-4594-c49e-b1a7249958e2"
      },
      "execution_count": 46,
      "outputs": [
        {
          "output_type": "stream",
          "name": "stdout",
          "text": [
            "No corrupted files\n"
          ]
        }
      ]
    },
    {
      "cell_type": "markdown",
      "source": [
        "Normalize images"
      ],
      "metadata": {
        "id": "g_n9H-Ts0RVS"
      }
    },
    {
      "cell_type": "code",
      "source": [
        "images[0]"
      ],
      "metadata": {
        "colab": {
          "base_uri": "https://localhost:8080/",
          "height": 169
        },
        "id": "dkPyAyep20Uz",
        "outputId": "276289cf-21ca-457b-e8fa-81a5d490273b"
      },
      "execution_count": 47,
      "outputs": [
        {
          "output_type": "execute_result",
          "data": {
            "text/plain": [
              "array([[[169, 162, 197],\n",
              "        [171, 162, 202],\n",
              "        [176, 166, 208],\n",
              "        ...,\n",
              "        [176, 189, 224],\n",
              "        [189, 218, 241],\n",
              "        [192, 222, 247]],\n",
              "\n",
              "       [[180, 171, 209],\n",
              "        [182, 189, 219],\n",
              "        [191, 211, 233],\n",
              "        ...,\n",
              "        [182, 196, 231],\n",
              "        [192, 221, 244],\n",
              "        [191, 221, 246]],\n",
              "\n",
              "       [[195, 222, 239],\n",
              "        [198, 230, 250],\n",
              "        [194, 230, 254],\n",
              "        ...,\n",
              "        [179, 192, 227],\n",
              "        [191, 220, 243],\n",
              "        [192, 222, 247]],\n",
              "\n",
              "       ...,\n",
              "\n",
              "       [[203, 229, 253],\n",
              "        [203, 229, 253],\n",
              "        [203, 229, 253],\n",
              "        ...,\n",
              "        [170, 181, 214],\n",
              "        [177, 188, 220],\n",
              "        [171, 183, 215]],\n",
              "\n",
              "       [[204, 230, 254],\n",
              "        [203, 229, 253],\n",
              "        [202, 228, 252],\n",
              "        ...,\n",
              "        [184, 219, 240],\n",
              "        [187, 218, 244],\n",
              "        [187, 211, 242]],\n",
              "\n",
              "       [[196, 232, 255],\n",
              "        [199, 231, 255],\n",
              "        [201, 231, 255],\n",
              "        ...,\n",
              "        [192, 215, 247],\n",
              "        [190, 214, 244],\n",
              "        [188, 212, 240]]], dtype=uint8)"
            ],
            "text/html": [
              "<style>\n",
              "      .ndarray_repr .ndarray_raw_data {\n",
              "        display: none;\n",
              "      }\n",
              "      .ndarray_repr.show_array .ndarray_raw_data {\n",
              "        display: block;\n",
              "      }\n",
              "      .ndarray_repr.show_array .ndarray_image_preview {\n",
              "        display: none;\n",
              "      }\n",
              "      </style>\n",
              "      <div id=\"id-8c99a6b1-3b59-4091-a4cc-7865cae8e366\" class=\"ndarray_repr\"><pre>ndarray (128, 128, 3) <button style=\"padding: 0 2px;\">show data</button></pre><img src=\"data:image/png;base64,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\" class=\"ndarray_image_preview\" /><pre class=\"ndarray_raw_data\">array([[[169, 162, 197],\n",
              "        [171, 162, 202],\n",
              "        [176, 166, 208],\n",
              "        ...,\n",
              "        [176, 189, 224],\n",
              "        [189, 218, 241],\n",
              "        [192, 222, 247]],\n",
              "\n",
              "       [[180, 171, 209],\n",
              "        [182, 189, 219],\n",
              "        [191, 211, 233],\n",
              "        ...,\n",
              "        [182, 196, 231],\n",
              "        [192, 221, 244],\n",
              "        [191, 221, 246]],\n",
              "\n",
              "       [[195, 222, 239],\n",
              "        [198, 230, 250],\n",
              "        [194, 230, 254],\n",
              "        ...,\n",
              "        [179, 192, 227],\n",
              "        [191, 220, 243],\n",
              "        [192, 222, 247]],\n",
              "\n",
              "       ...,\n",
              "\n",
              "       [[203, 229, 253],\n",
              "        [203, 229, 253],\n",
              "        [203, 229, 253],\n",
              "        ...,\n",
              "        [170, 181, 214],\n",
              "        [177, 188, 220],\n",
              "        [171, 183, 215]],\n",
              "\n",
              "       [[204, 230, 254],\n",
              "        [203, 229, 253],\n",
              "        [202, 228, 252],\n",
              "        ...,\n",
              "        [184, 219, 240],\n",
              "        [187, 218, 244],\n",
              "        [187, 211, 242]],\n",
              "\n",
              "       [[196, 232, 255],\n",
              "        [199, 231, 255],\n",
              "        [201, 231, 255],\n",
              "        ...,\n",
              "        [192, 215, 247],\n",
              "        [190, 214, 244],\n",
              "        [188, 212, 240]]], dtype=uint8)</pre></div><script>\n",
              "      (() => {\n",
              "      const titles = ['show data', 'hide data'];\n",
              "      let index = 0\n",
              "      document.querySelector('#id-8c99a6b1-3b59-4091-a4cc-7865cae8e366 button').onclick = (e) => {\n",
              "        document.querySelector('#id-8c99a6b1-3b59-4091-a4cc-7865cae8e366').classList.toggle('show_array');\n",
              "        index = (++index) % 2;\n",
              "        document.querySelector('#id-8c99a6b1-3b59-4091-a4cc-7865cae8e366 button').textContent = titles[index];\n",
              "        e.preventDefault();\n",
              "        e.stopPropagation();\n",
              "      }\n",
              "      })();\n",
              "    </script>"
            ]
          },
          "metadata": {},
          "execution_count": 47
        }
      ]
    },
    {
      "cell_type": "code",
      "source": [
        "images = images / 255.0"
      ],
      "metadata": {
        "id": "bkAyR0jt2Ner"
      },
      "execution_count": 48,
      "outputs": []
    },
    {
      "cell_type": "code",
      "source": [
        "images[0]"
      ],
      "metadata": {
        "colab": {
          "base_uri": "https://localhost:8080/"
        },
        "id": "FdP8ADGP2xCW",
        "outputId": "76f80559-1efe-4cd6-f2d2-4c491cf5a879"
      },
      "execution_count": 49,
      "outputs": [
        {
          "output_type": "execute_result",
          "data": {
            "text/plain": [
              "array([[[0.6627451 , 0.63529412, 0.77254902],\n",
              "        [0.67058824, 0.63529412, 0.79215686],\n",
              "        [0.69019608, 0.65098039, 0.81568627],\n",
              "        ...,\n",
              "        [0.69019608, 0.74117647, 0.87843137],\n",
              "        [0.74117647, 0.85490196, 0.94509804],\n",
              "        [0.75294118, 0.87058824, 0.96862745]],\n",
              "\n",
              "       [[0.70588235, 0.67058824, 0.81960784],\n",
              "        [0.71372549, 0.74117647, 0.85882353],\n",
              "        [0.74901961, 0.82745098, 0.91372549],\n",
              "        ...,\n",
              "        [0.71372549, 0.76862745, 0.90588235],\n",
              "        [0.75294118, 0.86666667, 0.95686275],\n",
              "        [0.74901961, 0.86666667, 0.96470588]],\n",
              "\n",
              "       [[0.76470588, 0.87058824, 0.9372549 ],\n",
              "        [0.77647059, 0.90196078, 0.98039216],\n",
              "        [0.76078431, 0.90196078, 0.99607843],\n",
              "        ...,\n",
              "        [0.70196078, 0.75294118, 0.89019608],\n",
              "        [0.74901961, 0.8627451 , 0.95294118],\n",
              "        [0.75294118, 0.87058824, 0.96862745]],\n",
              "\n",
              "       ...,\n",
              "\n",
              "       [[0.79607843, 0.89803922, 0.99215686],\n",
              "        [0.79607843, 0.89803922, 0.99215686],\n",
              "        [0.79607843, 0.89803922, 0.99215686],\n",
              "        ...,\n",
              "        [0.66666667, 0.70980392, 0.83921569],\n",
              "        [0.69411765, 0.7372549 , 0.8627451 ],\n",
              "        [0.67058824, 0.71764706, 0.84313725]],\n",
              "\n",
              "       [[0.8       , 0.90196078, 0.99607843],\n",
              "        [0.79607843, 0.89803922, 0.99215686],\n",
              "        [0.79215686, 0.89411765, 0.98823529],\n",
              "        ...,\n",
              "        [0.72156863, 0.85882353, 0.94117647],\n",
              "        [0.73333333, 0.85490196, 0.95686275],\n",
              "        [0.73333333, 0.82745098, 0.94901961]],\n",
              "\n",
              "       [[0.76862745, 0.90980392, 1.        ],\n",
              "        [0.78039216, 0.90588235, 1.        ],\n",
              "        [0.78823529, 0.90588235, 1.        ],\n",
              "        ...,\n",
              "        [0.75294118, 0.84313725, 0.96862745],\n",
              "        [0.74509804, 0.83921569, 0.95686275],\n",
              "        [0.7372549 , 0.83137255, 0.94117647]]])"
            ]
          },
          "metadata": {},
          "execution_count": 49
        }
      ]
    },
    {
      "cell_type": "markdown",
      "source": [
        "Convert labels to categorical format"
      ],
      "metadata": {
        "id": "XlH215JM2U_A"
      }
    },
    {
      "cell_type": "code",
      "source": [
        "labels[:5]"
      ],
      "metadata": {
        "colab": {
          "base_uri": "https://localhost:8080/"
        },
        "id": "PbKMXjz823_-",
        "outputId": "4a4e2052-23d5-4007-f0d8-85cf4215a6a3"
      },
      "execution_count": 50,
      "outputs": [
        {
          "output_type": "execute_result",
          "data": {
            "text/plain": [
              "array([0, 0, 0, 0, 0])"
            ]
          },
          "metadata": {},
          "execution_count": 50
        }
      ]
    },
    {
      "cell_type": "code",
      "source": [
        "labels = to_categorical(labels, num_classes=len(CLASSES))"
      ],
      "metadata": {
        "id": "jfllOgq62jb0"
      },
      "execution_count": 51,
      "outputs": []
    },
    {
      "cell_type": "code",
      "source": [
        "labels[:5]"
      ],
      "metadata": {
        "colab": {
          "base_uri": "https://localhost:8080/"
        },
        "id": "M7UDTPGP2pWY",
        "outputId": "99503f34-8222-4d5c-e927-3e525b60c3a6"
      },
      "execution_count": 52,
      "outputs": [
        {
          "output_type": "execute_result",
          "data": {
            "text/plain": [
              "array([[1., 0., 0., 0., 0.],\n",
              "       [1., 0., 0., 0., 0.],\n",
              "       [1., 0., 0., 0., 0.],\n",
              "       [1., 0., 0., 0., 0.],\n",
              "       [1., 0., 0., 0., 0.]])"
            ]
          },
          "metadata": {},
          "execution_count": 52
        }
      ]
    },
    {
      "cell_type": "markdown",
      "source": [
        "# Model Training"
      ],
      "metadata": {
        "id": "Qe2y3sGK3uiO"
      }
    },
    {
      "cell_type": "markdown",
      "source": [
        "Split data in train, validation and test sets"
      ],
      "metadata": {
        "id": "edczMKkN3-Af"
      }
    },
    {
      "cell_type": "code",
      "source": [
        "# 30% of data for validation and test, the remaining 70% for training\n",
        "\n",
        "X_train, X_temp, y_train, y_temp = train_test_split(images, labels, test_size=0.3, random_state=SEED)\n",
        "\n",
        "X_val, X_test, y_val, y_test = train_test_split(X_temp, y_temp, test_size=0.5, random_state=SEED)"
      ],
      "metadata": {
        "id": "ElaJV8L930XA"
      },
      "execution_count": 54,
      "outputs": []
    },
    {
      "cell_type": "markdown",
      "source": [
        "Create model"
      ],
      "metadata": {
        "id": "iT55J_Ha43tM"
      }
    },
    {
      "cell_type": "code",
      "source": [
        "model = Sequential([\n",
        "    Conv2D(32, (3, 3), activation='relu', input_shape=(IMG_HEIGHT, IMG_WIDTH, 3)),\n",
        "    MaxPooling2D(pool_size=(2, 2)),\n",
        "    BatchNormalization(),\n",
        "    Conv2D(64, (3, 3), activation='relu'),\n",
        "    MaxPooling2D(pool_size=(2, 2)),\n",
        "    BatchNormalization(),\n",
        "    Conv2D(128, (3, 3), activation='relu'),\n",
        "    MaxPooling2D(pool_size=(2, 2)),\n",
        "    BatchNormalization(),\n",
        "    Flatten(),\n",
        "    Dense(256, activation='relu'),\n",
        "    Dropout(0.5),\n",
        "    Dense(len(CLASSES), activation='softmax')\n",
        "])"
      ],
      "metadata": {
        "colab": {
          "base_uri": "https://localhost:8080/"
        },
        "id": "74UdZFst4Gbl",
        "outputId": "4d006620-4bfe-48b9-ce82-10a7b4fe16c3"
      },
      "execution_count": 55,
      "outputs": [
        {
          "output_type": "stream",
          "name": "stderr",
          "text": [
            "/usr/local/lib/python3.11/dist-packages/keras/src/layers/convolutional/base_conv.py:107: UserWarning: Do not pass an `input_shape`/`input_dim` argument to a layer. When using Sequential models, prefer using an `Input(shape)` object as the first layer in the model instead.\n",
            "  super().__init__(activity_regularizer=activity_regularizer, **kwargs)\n"
          ]
        }
      ]
    },
    {
      "cell_type": "markdown",
      "source": [
        "Compile model with optimizer and loss function"
      ],
      "metadata": {
        "id": "NR0wZEZR5AQ-"
      }
    },
    {
      "cell_type": "code",
      "source": [
        "model.compile(\n",
        "    optimizer=\"adam\",\n",
        "    loss=\"categorical_crossentropy\",\n",
        "    metrics=[\"accuracy\"]\n",
        ")"
      ],
      "metadata": {
        "id": "kb6zj6Vp5F0S"
      },
      "execution_count": 56,
      "outputs": []
    },
    {
      "cell_type": "markdown",
      "source": [
        "Display model summary"
      ],
      "metadata": {
        "id": "X8edEyrC5bTh"
      }
    },
    {
      "cell_type": "code",
      "source": [
        "model.summary()"
      ],
      "metadata": {
        "colab": {
          "base_uri": "https://localhost:8080/",
          "height": 593
        },
        "id": "rhihzM9p5eJn",
        "outputId": "e01421e3-d3cb-48a2-afe9-b158b4f22bd6"
      },
      "execution_count": 57,
      "outputs": [
        {
          "output_type": "display_data",
          "data": {
            "text/plain": [
              "\u001b[1mModel: \"sequential\"\u001b[0m\n"
            ],
            "text/html": [
              "<pre style=\"white-space:pre;overflow-x:auto;line-height:normal;font-family:Menlo,'DejaVu Sans Mono',consolas,'Courier New',monospace\"><span style=\"font-weight: bold\">Model: \"sequential\"</span>\n",
              "</pre>\n"
            ]
          },
          "metadata": {}
        },
        {
          "output_type": "display_data",
          "data": {
            "text/plain": [
              "┏━━━━━━━━━━━━━━━━━━━━━━━━━━━━━━━━━━━━━━┳━━━━━━━━━━━━━━━━━━━━━━━━━━━━━┳━━━━━━━━━━━━━━━━━┓\n",
              "┃\u001b[1m \u001b[0m\u001b[1mLayer (type)                        \u001b[0m\u001b[1m \u001b[0m┃\u001b[1m \u001b[0m\u001b[1mOutput Shape               \u001b[0m\u001b[1m \u001b[0m┃\u001b[1m \u001b[0m\u001b[1m        Param #\u001b[0m\u001b[1m \u001b[0m┃\n",
              "┡━━━━━━━━━━━━━━━━━━━━━━━━━━━━━━━━━━━━━━╇━━━━━━━━━━━━━━━━━━━━━━━━━━━━━╇━━━━━━━━━━━━━━━━━┩\n",
              "│ conv2d (\u001b[38;5;33mConv2D\u001b[0m)                      │ (\u001b[38;5;45mNone\u001b[0m, \u001b[38;5;34m126\u001b[0m, \u001b[38;5;34m126\u001b[0m, \u001b[38;5;34m32\u001b[0m)        │             \u001b[38;5;34m896\u001b[0m │\n",
              "├──────────────────────────────────────┼─────────────────────────────┼─────────────────┤\n",
              "│ max_pooling2d (\u001b[38;5;33mMaxPooling2D\u001b[0m)         │ (\u001b[38;5;45mNone\u001b[0m, \u001b[38;5;34m63\u001b[0m, \u001b[38;5;34m63\u001b[0m, \u001b[38;5;34m32\u001b[0m)          │               \u001b[38;5;34m0\u001b[0m │\n",
              "├──────────────────────────────────────┼─────────────────────────────┼─────────────────┤\n",
              "│ batch_normalization                  │ (\u001b[38;5;45mNone\u001b[0m, \u001b[38;5;34m63\u001b[0m, \u001b[38;5;34m63\u001b[0m, \u001b[38;5;34m32\u001b[0m)          │             \u001b[38;5;34m128\u001b[0m │\n",
              "│ (\u001b[38;5;33mBatchNormalization\u001b[0m)                 │                             │                 │\n",
              "├──────────────────────────────────────┼─────────────────────────────┼─────────────────┤\n",
              "│ conv2d_1 (\u001b[38;5;33mConv2D\u001b[0m)                    │ (\u001b[38;5;45mNone\u001b[0m, \u001b[38;5;34m61\u001b[0m, \u001b[38;5;34m61\u001b[0m, \u001b[38;5;34m64\u001b[0m)          │          \u001b[38;5;34m18,496\u001b[0m │\n",
              "├──────────────────────────────────────┼─────────────────────────────┼─────────────────┤\n",
              "│ max_pooling2d_1 (\u001b[38;5;33mMaxPooling2D\u001b[0m)       │ (\u001b[38;5;45mNone\u001b[0m, \u001b[38;5;34m30\u001b[0m, \u001b[38;5;34m30\u001b[0m, \u001b[38;5;34m64\u001b[0m)          │               \u001b[38;5;34m0\u001b[0m │\n",
              "├──────────────────────────────────────┼─────────────────────────────┼─────────────────┤\n",
              "│ batch_normalization_1                │ (\u001b[38;5;45mNone\u001b[0m, \u001b[38;5;34m30\u001b[0m, \u001b[38;5;34m30\u001b[0m, \u001b[38;5;34m64\u001b[0m)          │             \u001b[38;5;34m256\u001b[0m │\n",
              "│ (\u001b[38;5;33mBatchNormalization\u001b[0m)                 │                             │                 │\n",
              "├──────────────────────────────────────┼─────────────────────────────┼─────────────────┤\n",
              "│ conv2d_2 (\u001b[38;5;33mConv2D\u001b[0m)                    │ (\u001b[38;5;45mNone\u001b[0m, \u001b[38;5;34m28\u001b[0m, \u001b[38;5;34m28\u001b[0m, \u001b[38;5;34m128\u001b[0m)         │          \u001b[38;5;34m73,856\u001b[0m │\n",
              "├──────────────────────────────────────┼─────────────────────────────┼─────────────────┤\n",
              "│ max_pooling2d_2 (\u001b[38;5;33mMaxPooling2D\u001b[0m)       │ (\u001b[38;5;45mNone\u001b[0m, \u001b[38;5;34m14\u001b[0m, \u001b[38;5;34m14\u001b[0m, \u001b[38;5;34m128\u001b[0m)         │               \u001b[38;5;34m0\u001b[0m │\n",
              "├──────────────────────────────────────┼─────────────────────────────┼─────────────────┤\n",
              "│ batch_normalization_2                │ (\u001b[38;5;45mNone\u001b[0m, \u001b[38;5;34m14\u001b[0m, \u001b[38;5;34m14\u001b[0m, \u001b[38;5;34m128\u001b[0m)         │             \u001b[38;5;34m512\u001b[0m │\n",
              "│ (\u001b[38;5;33mBatchNormalization\u001b[0m)                 │                             │                 │\n",
              "├──────────────────────────────────────┼─────────────────────────────┼─────────────────┤\n",
              "│ flatten (\u001b[38;5;33mFlatten\u001b[0m)                    │ (\u001b[38;5;45mNone\u001b[0m, \u001b[38;5;34m25088\u001b[0m)               │               \u001b[38;5;34m0\u001b[0m │\n",
              "├──────────────────────────────────────┼─────────────────────────────┼─────────────────┤\n",
              "│ dense (\u001b[38;5;33mDense\u001b[0m)                        │ (\u001b[38;5;45mNone\u001b[0m, \u001b[38;5;34m256\u001b[0m)                 │       \u001b[38;5;34m6,422,784\u001b[0m │\n",
              "├──────────────────────────────────────┼─────────────────────────────┼─────────────────┤\n",
              "│ dropout (\u001b[38;5;33mDropout\u001b[0m)                    │ (\u001b[38;5;45mNone\u001b[0m, \u001b[38;5;34m256\u001b[0m)                 │               \u001b[38;5;34m0\u001b[0m │\n",
              "├──────────────────────────────────────┼─────────────────────────────┼─────────────────┤\n",
              "│ dense_1 (\u001b[38;5;33mDense\u001b[0m)                      │ (\u001b[38;5;45mNone\u001b[0m, \u001b[38;5;34m5\u001b[0m)                   │           \u001b[38;5;34m1,285\u001b[0m │\n",
              "└──────────────────────────────────────┴─────────────────────────────┴─────────────────┘\n"
            ],
            "text/html": [
              "<pre style=\"white-space:pre;overflow-x:auto;line-height:normal;font-family:Menlo,'DejaVu Sans Mono',consolas,'Courier New',monospace\">┏━━━━━━━━━━━━━━━━━━━━━━━━━━━━━━━━━━━━━━┳━━━━━━━━━━━━━━━━━━━━━━━━━━━━━┳━━━━━━━━━━━━━━━━━┓\n",
              "┃<span style=\"font-weight: bold\"> Layer (type)                         </span>┃<span style=\"font-weight: bold\"> Output Shape                </span>┃<span style=\"font-weight: bold\">         Param # </span>┃\n",
              "┡━━━━━━━━━━━━━━━━━━━━━━━━━━━━━━━━━━━━━━╇━━━━━━━━━━━━━━━━━━━━━━━━━━━━━╇━━━━━━━━━━━━━━━━━┩\n",
              "│ conv2d (<span style=\"color: #0087ff; text-decoration-color: #0087ff\">Conv2D</span>)                      │ (<span style=\"color: #00d7ff; text-decoration-color: #00d7ff\">None</span>, <span style=\"color: #00af00; text-decoration-color: #00af00\">126</span>, <span style=\"color: #00af00; text-decoration-color: #00af00\">126</span>, <span style=\"color: #00af00; text-decoration-color: #00af00\">32</span>)        │             <span style=\"color: #00af00; text-decoration-color: #00af00\">896</span> │\n",
              "├──────────────────────────────────────┼─────────────────────────────┼─────────────────┤\n",
              "│ max_pooling2d (<span style=\"color: #0087ff; text-decoration-color: #0087ff\">MaxPooling2D</span>)         │ (<span style=\"color: #00d7ff; text-decoration-color: #00d7ff\">None</span>, <span style=\"color: #00af00; text-decoration-color: #00af00\">63</span>, <span style=\"color: #00af00; text-decoration-color: #00af00\">63</span>, <span style=\"color: #00af00; text-decoration-color: #00af00\">32</span>)          │               <span style=\"color: #00af00; text-decoration-color: #00af00\">0</span> │\n",
              "├──────────────────────────────────────┼─────────────────────────────┼─────────────────┤\n",
              "│ batch_normalization                  │ (<span style=\"color: #00d7ff; text-decoration-color: #00d7ff\">None</span>, <span style=\"color: #00af00; text-decoration-color: #00af00\">63</span>, <span style=\"color: #00af00; text-decoration-color: #00af00\">63</span>, <span style=\"color: #00af00; text-decoration-color: #00af00\">32</span>)          │             <span style=\"color: #00af00; text-decoration-color: #00af00\">128</span> │\n",
              "│ (<span style=\"color: #0087ff; text-decoration-color: #0087ff\">BatchNormalization</span>)                 │                             │                 │\n",
              "├──────────────────────────────────────┼─────────────────────────────┼─────────────────┤\n",
              "│ conv2d_1 (<span style=\"color: #0087ff; text-decoration-color: #0087ff\">Conv2D</span>)                    │ (<span style=\"color: #00d7ff; text-decoration-color: #00d7ff\">None</span>, <span style=\"color: #00af00; text-decoration-color: #00af00\">61</span>, <span style=\"color: #00af00; text-decoration-color: #00af00\">61</span>, <span style=\"color: #00af00; text-decoration-color: #00af00\">64</span>)          │          <span style=\"color: #00af00; text-decoration-color: #00af00\">18,496</span> │\n",
              "├──────────────────────────────────────┼─────────────────────────────┼─────────────────┤\n",
              "│ max_pooling2d_1 (<span style=\"color: #0087ff; text-decoration-color: #0087ff\">MaxPooling2D</span>)       │ (<span style=\"color: #00d7ff; text-decoration-color: #00d7ff\">None</span>, <span style=\"color: #00af00; text-decoration-color: #00af00\">30</span>, <span style=\"color: #00af00; text-decoration-color: #00af00\">30</span>, <span style=\"color: #00af00; text-decoration-color: #00af00\">64</span>)          │               <span style=\"color: #00af00; text-decoration-color: #00af00\">0</span> │\n",
              "├──────────────────────────────────────┼─────────────────────────────┼─────────────────┤\n",
              "│ batch_normalization_1                │ (<span style=\"color: #00d7ff; text-decoration-color: #00d7ff\">None</span>, <span style=\"color: #00af00; text-decoration-color: #00af00\">30</span>, <span style=\"color: #00af00; text-decoration-color: #00af00\">30</span>, <span style=\"color: #00af00; text-decoration-color: #00af00\">64</span>)          │             <span style=\"color: #00af00; text-decoration-color: #00af00\">256</span> │\n",
              "│ (<span style=\"color: #0087ff; text-decoration-color: #0087ff\">BatchNormalization</span>)                 │                             │                 │\n",
              "├──────────────────────────────────────┼─────────────────────────────┼─────────────────┤\n",
              "│ conv2d_2 (<span style=\"color: #0087ff; text-decoration-color: #0087ff\">Conv2D</span>)                    │ (<span style=\"color: #00d7ff; text-decoration-color: #00d7ff\">None</span>, <span style=\"color: #00af00; text-decoration-color: #00af00\">28</span>, <span style=\"color: #00af00; text-decoration-color: #00af00\">28</span>, <span style=\"color: #00af00; text-decoration-color: #00af00\">128</span>)         │          <span style=\"color: #00af00; text-decoration-color: #00af00\">73,856</span> │\n",
              "├──────────────────────────────────────┼─────────────────────────────┼─────────────────┤\n",
              "│ max_pooling2d_2 (<span style=\"color: #0087ff; text-decoration-color: #0087ff\">MaxPooling2D</span>)       │ (<span style=\"color: #00d7ff; text-decoration-color: #00d7ff\">None</span>, <span style=\"color: #00af00; text-decoration-color: #00af00\">14</span>, <span style=\"color: #00af00; text-decoration-color: #00af00\">14</span>, <span style=\"color: #00af00; text-decoration-color: #00af00\">128</span>)         │               <span style=\"color: #00af00; text-decoration-color: #00af00\">0</span> │\n",
              "├──────────────────────────────────────┼─────────────────────────────┼─────────────────┤\n",
              "│ batch_normalization_2                │ (<span style=\"color: #00d7ff; text-decoration-color: #00d7ff\">None</span>, <span style=\"color: #00af00; text-decoration-color: #00af00\">14</span>, <span style=\"color: #00af00; text-decoration-color: #00af00\">14</span>, <span style=\"color: #00af00; text-decoration-color: #00af00\">128</span>)         │             <span style=\"color: #00af00; text-decoration-color: #00af00\">512</span> │\n",
              "│ (<span style=\"color: #0087ff; text-decoration-color: #0087ff\">BatchNormalization</span>)                 │                             │                 │\n",
              "├──────────────────────────────────────┼─────────────────────────────┼─────────────────┤\n",
              "│ flatten (<span style=\"color: #0087ff; text-decoration-color: #0087ff\">Flatten</span>)                    │ (<span style=\"color: #00d7ff; text-decoration-color: #00d7ff\">None</span>, <span style=\"color: #00af00; text-decoration-color: #00af00\">25088</span>)               │               <span style=\"color: #00af00; text-decoration-color: #00af00\">0</span> │\n",
              "├──────────────────────────────────────┼─────────────────────────────┼─────────────────┤\n",
              "│ dense (<span style=\"color: #0087ff; text-decoration-color: #0087ff\">Dense</span>)                        │ (<span style=\"color: #00d7ff; text-decoration-color: #00d7ff\">None</span>, <span style=\"color: #00af00; text-decoration-color: #00af00\">256</span>)                 │       <span style=\"color: #00af00; text-decoration-color: #00af00\">6,422,784</span> │\n",
              "├──────────────────────────────────────┼─────────────────────────────┼─────────────────┤\n",
              "│ dropout (<span style=\"color: #0087ff; text-decoration-color: #0087ff\">Dropout</span>)                    │ (<span style=\"color: #00d7ff; text-decoration-color: #00d7ff\">None</span>, <span style=\"color: #00af00; text-decoration-color: #00af00\">256</span>)                 │               <span style=\"color: #00af00; text-decoration-color: #00af00\">0</span> │\n",
              "├──────────────────────────────────────┼─────────────────────────────┼─────────────────┤\n",
              "│ dense_1 (<span style=\"color: #0087ff; text-decoration-color: #0087ff\">Dense</span>)                      │ (<span style=\"color: #00d7ff; text-decoration-color: #00d7ff\">None</span>, <span style=\"color: #00af00; text-decoration-color: #00af00\">5</span>)                   │           <span style=\"color: #00af00; text-decoration-color: #00af00\">1,285</span> │\n",
              "└──────────────────────────────────────┴─────────────────────────────┴─────────────────┘\n",
              "</pre>\n"
            ]
          },
          "metadata": {}
        },
        {
          "output_type": "display_data",
          "data": {
            "text/plain": [
              "\u001b[1m Total params: \u001b[0m\u001b[38;5;34m6,518,213\u001b[0m (24.87 MB)\n"
            ],
            "text/html": [
              "<pre style=\"white-space:pre;overflow-x:auto;line-height:normal;font-family:Menlo,'DejaVu Sans Mono',consolas,'Courier New',monospace\"><span style=\"font-weight: bold\"> Total params: </span><span style=\"color: #00af00; text-decoration-color: #00af00\">6,518,213</span> (24.87 MB)\n",
              "</pre>\n"
            ]
          },
          "metadata": {}
        },
        {
          "output_type": "display_data",
          "data": {
            "text/plain": [
              "\u001b[1m Trainable params: \u001b[0m\u001b[38;5;34m6,517,765\u001b[0m (24.86 MB)\n"
            ],
            "text/html": [
              "<pre style=\"white-space:pre;overflow-x:auto;line-height:normal;font-family:Menlo,'DejaVu Sans Mono',consolas,'Courier New',monospace\"><span style=\"font-weight: bold\"> Trainable params: </span><span style=\"color: #00af00; text-decoration-color: #00af00\">6,517,765</span> (24.86 MB)\n",
              "</pre>\n"
            ]
          },
          "metadata": {}
        },
        {
          "output_type": "display_data",
          "data": {
            "text/plain": [
              "\u001b[1m Non-trainable params: \u001b[0m\u001b[38;5;34m448\u001b[0m (1.75 KB)\n"
            ],
            "text/html": [
              "<pre style=\"white-space:pre;overflow-x:auto;line-height:normal;font-family:Menlo,'DejaVu Sans Mono',consolas,'Courier New',monospace\"><span style=\"font-weight: bold\"> Non-trainable params: </span><span style=\"color: #00af00; text-decoration-color: #00af00\">448</span> (1.75 KB)\n",
              "</pre>\n"
            ]
          },
          "metadata": {}
        }
      ]
    },
    {
      "cell_type": "markdown",
      "source": [
        "Train model"
      ],
      "metadata": {
        "id": "jK0decXL5rmL"
      }
    },
    {
      "cell_type": "code",
      "source": [
        "history = model.fit(\n",
        "    X_train,\n",
        "    y_train,\n",
        "    batch_size=32,\n",
        "    validation_data=(X_val, y_val),\n",
        "    epochs=20,\n",
        "    steps_per_epoch=len(X_train) // 32\n",
        ")"
      ],
      "metadata": {
        "colab": {
          "base_uri": "https://localhost:8080/"
        },
        "id": "7W83HSY65s_i",
        "outputId": "7af18511-4510-4a44-9069-02b1f8ba024b"
      },
      "execution_count": 58,
      "outputs": [
        {
          "output_type": "stream",
          "name": "stdout",
          "text": [
            "Epoch 1/20\n",
            "\u001b[1m109/109\u001b[0m \u001b[32m━━━━━━━━━━━━━━━━━━━━\u001b[0m\u001b[37m\u001b[0m \u001b[1m139s\u001b[0m 1s/step - accuracy: 0.7685 - loss: 1.8440 - val_accuracy: 0.1973 - val_loss: 20.7444\n",
            "Epoch 2/20\n",
            "\u001b[1m  1/109\u001b[0m \u001b[37m━━━━━━━━━━━━━━━━━━━━\u001b[0m \u001b[1m43s\u001b[0m 399ms/step - accuracy: 0.7500 - loss: 1.3050"
          ]
        },
        {
          "output_type": "stream",
          "name": "stderr",
          "text": [
            "/usr/local/lib/python3.11/dist-packages/keras/src/trainers/epoch_iterator.py:107: UserWarning: Your input ran out of data; interrupting training. Make sure that your dataset or generator can generate at least `steps_per_epoch * epochs` batches. You may need to use the `.repeat()` function when building your dataset.\n",
            "  self._interrupted_warning()\n"
          ]
        },
        {
          "output_type": "stream",
          "name": "stdout",
          "text": [
            "\b\b\b\b\b\b\b\b\b\b\b\b\b\b\b\b\b\b\b\b\b\b\b\b\b\b\b\b\b\b\b\b\b\b\b\b\b\b\b\b\b\b\b\b\b\b\b\b\b\b\b\b\b\b\b\b\b\b\b\b\b\b\b\b\b\b\b\b\b\b\b\b\b\b\b\b\b\r\u001b[1m109/109\u001b[0m \u001b[32m━━━━━━━━━━━━━━━━━━━━\u001b[0m\u001b[37m\u001b[0m \u001b[1m11s\u001b[0m 95ms/step - accuracy: 0.7500 - loss: 1.3050 - val_accuracy: 0.1973 - val_loss: 20.0104\n",
            "Epoch 3/20\n",
            "\u001b[1m109/109\u001b[0m \u001b[32m━━━━━━━━━━━━━━━━━━━━\u001b[0m\u001b[37m\u001b[0m \u001b[1m191s\u001b[0m 1s/step - accuracy: 0.9140 - loss: 0.3362 - val_accuracy: 0.1973 - val_loss: 24.3340\n",
            "Epoch 4/20\n",
            "\u001b[1m109/109\u001b[0m \u001b[32m━━━━━━━━━━━━━━━━━━━━\u001b[0m\u001b[37m\u001b[0m \u001b[1m11s\u001b[0m 95ms/step - accuracy: 1.0000 - loss: 0.0501 - val_accuracy: 0.1973 - val_loss: 23.9128\n",
            "Epoch 5/20\n",
            "\u001b[1m109/109\u001b[0m \u001b[32m━━━━━━━━━━━━━━━━━━━━\u001b[0m\u001b[37m\u001b[0m \u001b[1m191s\u001b[0m 1s/step - accuracy: 0.9506 - loss: 0.2104 - val_accuracy: 0.1973 - val_loss: 25.8885\n",
            "Epoch 6/20\n",
            "\u001b[1m109/109\u001b[0m \u001b[32m━━━━━━━━━━━━━━━━━━━━\u001b[0m\u001b[37m\u001b[0m \u001b[1m11s\u001b[0m 95ms/step - accuracy: 1.0000 - loss: 0.0327 - val_accuracy: 0.1973 - val_loss: 24.8746\n",
            "Epoch 7/20\n",
            "\u001b[1m109/109\u001b[0m \u001b[32m━━━━━━━━━━━━━━━━━━━━\u001b[0m\u001b[37m\u001b[0m \u001b[1m189s\u001b[0m 1s/step - accuracy: 0.9540 - loss: 0.1826 - val_accuracy: 0.3133 - val_loss: 16.0448\n",
            "Epoch 8/20\n",
            "\u001b[1m109/109\u001b[0m \u001b[32m━━━━━━━━━━━━━━━━━━━━\u001b[0m\u001b[37m\u001b[0m \u001b[1m7s\u001b[0m 57ms/step - accuracy: 1.0000 - loss: 0.0101 - val_accuracy: 0.3120 - val_loss: 16.8595\n",
            "Epoch 9/20\n",
            "\u001b[1m109/109\u001b[0m \u001b[32m━━━━━━━━━━━━━━━━━━━━\u001b[0m\u001b[37m\u001b[0m \u001b[1m132s\u001b[0m 1s/step - accuracy: 0.9715 - loss: 0.0966 - val_accuracy: 0.7427 - val_loss: 2.8557\n",
            "Epoch 10/20\n",
            "\u001b[1m109/109\u001b[0m \u001b[32m━━━━━━━━━━━━━━━━━━━━\u001b[0m\u001b[37m\u001b[0m \u001b[1m11s\u001b[0m 95ms/step - accuracy: 1.0000 - loss: 0.0070 - val_accuracy: 0.6840 - val_loss: 3.8154\n",
            "Epoch 11/20\n",
            "\u001b[1m109/109\u001b[0m \u001b[32m━━━━━━━━━━━━━━━━━━━━\u001b[0m\u001b[37m\u001b[0m \u001b[1m189s\u001b[0m 1s/step - accuracy: 0.9688 - loss: 0.1423 - val_accuracy: 0.7400 - val_loss: 2.5243\n",
            "Epoch 12/20\n",
            "\u001b[1m109/109\u001b[0m \u001b[32m━━━━━━━━━━━━━━━━━━━━\u001b[0m\u001b[37m\u001b[0m \u001b[1m6s\u001b[0m 55ms/step - accuracy: 1.0000 - loss: 1.2649e-04 - val_accuracy: 0.7707 - val_loss: 2.2523\n",
            "Epoch 13/20\n",
            "\u001b[1m109/109\u001b[0m \u001b[32m━━━━━━━━━━━━━━━━━━━━\u001b[0m\u001b[37m\u001b[0m \u001b[1m136s\u001b[0m 1s/step - accuracy: 0.9702 - loss: 0.1140 - val_accuracy: 0.9360 - val_loss: 0.5553\n",
            "Epoch 14/20\n",
            "\u001b[1m109/109\u001b[0m \u001b[32m━━━━━━━━━━━━━━━━━━━━\u001b[0m\u001b[37m\u001b[0m \u001b[1m11s\u001b[0m 95ms/step - accuracy: 1.0000 - loss: 5.1155e-05 - val_accuracy: 0.9400 - val_loss: 0.5297\n",
            "Epoch 15/20\n",
            "\u001b[1m109/109\u001b[0m \u001b[32m━━━━━━━━━━━━━━━━━━━━\u001b[0m\u001b[37m\u001b[0m \u001b[1m187s\u001b[0m 1s/step - accuracy: 0.9820 - loss: 0.0597 - val_accuracy: 0.8880 - val_loss: 1.3100\n",
            "Epoch 16/20\n",
            "\u001b[1m109/109\u001b[0m \u001b[32m━━━━━━━━━━━━━━━━━━━━\u001b[0m\u001b[37m\u001b[0m \u001b[1m7s\u001b[0m 64ms/step - accuracy: 1.0000 - loss: 0.0056 - val_accuracy: 0.8987 - val_loss: 1.2826\n",
            "Epoch 17/20\n",
            "\u001b[1m109/109\u001b[0m \u001b[32m━━━━━━━━━━━━━━━━━━━━\u001b[0m\u001b[37m\u001b[0m \u001b[1m131s\u001b[0m 1s/step - accuracy: 0.9801 - loss: 0.0997 - val_accuracy: 0.5760 - val_loss: 37.6436\n",
            "Epoch 18/20\n",
            "\u001b[1m109/109\u001b[0m \u001b[32m━━━━━━━━━━━━━━━━━━━━\u001b[0m\u001b[37m\u001b[0m \u001b[1m7s\u001b[0m 61ms/step - accuracy: 1.0000 - loss: 8.6078e-05 - val_accuracy: 0.5920 - val_loss: 33.2368\n",
            "Epoch 19/20\n",
            "\u001b[1m109/109\u001b[0m \u001b[32m━━━━━━━━━━━━━━━━━━━━\u001b[0m\u001b[37m\u001b[0m \u001b[1m140s\u001b[0m 1s/step - accuracy: 0.9769 - loss: 0.0983 - val_accuracy: 0.9467 - val_loss: 0.5509\n",
            "Epoch 20/20\n",
            "\u001b[1m109/109\u001b[0m \u001b[32m━━━━━━━━━━━━━━━━━━━━\u001b[0m\u001b[37m\u001b[0m \u001b[1m6s\u001b[0m 55ms/step - accuracy: 1.0000 - loss: 8.8663e-04 - val_accuracy: 0.9387 - val_loss: 0.6644\n"
          ]
        }
      ]
    },
    {
      "cell_type": "markdown",
      "source": [
        "History plot"
      ],
      "metadata": {
        "id": "sJdswmQFBgnm"
      }
    },
    {
      "cell_type": "code",
      "source": [
        "plt.plot(history.history['accuracy'], label='Train Accuracy')\n",
        "plt.plot(history.history['val_accuracy'], label='Validation Accuracy')\n",
        "plt.legend()\n",
        "plt.show()"
      ],
      "metadata": {
        "colab": {
          "base_uri": "https://localhost:8080/",
          "height": 430
        },
        "id": "ggxl1zcvBezs",
        "outputId": "fb5330f2-dd49-417c-c594-6c2fa6027dd3"
      },
      "execution_count": 59,
      "outputs": [
        {
          "output_type": "display_data",
          "data": {
            "text/plain": [
              "<Figure size 640x480 with 1 Axes>"
            ],
            "image/png": "[encoded data removed]"
          },
          "metadata": {}
        }
      ]
    },
    {
      "cell_type": "markdown",
      "source": [
        "Make a prediction on a single input"
      ],
      "metadata": {
        "id": "rU7xzJPUB4Zp"
      }
    },
    {
      "cell_type": "code",
      "source": [
        "y_test[:5]"
      ],
      "metadata": {
        "colab": {
          "base_uri": "https://localhost:8080/"
        },
        "id": "V2XXsgJICVBO",
        "outputId": "efaa2ced-faa4-46e1-95e7-866f265e6975"
      },
      "execution_count": 68,
      "outputs": [
        {
          "output_type": "execute_result",
          "data": {
            "text/plain": [
              "array([[1., 0., 0., 0., 0.],\n",
              "       [0., 0., 1., 0., 0.],\n",
              "       [0., 0., 1., 0., 0.],\n",
              "       [0., 1., 0., 0., 0.],\n",
              "       [0., 0., 0., 1., 0.]])"
            ]
          },
          "metadata": {},
          "execution_count": 68
        }
      ]
    },
    {
      "cell_type": "code",
      "source": [
        "image_index = 1"
      ],
      "metadata": {
        "id": "MIHVakvbEa8j"
      },
      "execution_count": 74,
      "outputs": []
    },
    {
      "cell_type": "code",
      "source": [
        "pred = model.predict(np.expand_dims(X_test[image_index], axis=0))\n",
        "\n",
        "pred"
      ],
      "metadata": {
        "colab": {
          "base_uri": "https://localhost:8080/"
        },
        "id": "4_b0ERiMB8EO",
        "outputId": "7963e018-100e-4fd0-ff93-4741639e1e8e"
      },
      "execution_count": 75,
      "outputs": [
        {
          "output_type": "stream",
          "name": "stdout",
          "text": [
            "\u001b[1m1/1\u001b[0m \u001b[32m━━━━━━━━━━━━━━━━━━━━\u001b[0m\u001b[37m\u001b[0m \u001b[1m0s\u001b[0m 77ms/step\n"
          ]
        },
        {
          "output_type": "execute_result",
          "data": {
            "text/plain": [
              "array([[1.1591231e-03, 1.9739515e-01, 8.0110496e-01, 3.4075347e-04,\n",
              "        2.2557817e-10]], dtype=float32)"
            ]
          },
          "metadata": {},
          "execution_count": 75
        }
      ]
    },
    {
      "cell_type": "code",
      "source": [
        "pred_class_index = np.argmax(pred[0])\n",
        "actual_class_index = np.argmax(y_test[image_index])\n",
        "\n",
        "print(f\"Predicted: {pred_class_index} - {CLASSES[pred_class_index]}\")\n",
        "print(f\"Actual: {actual_class_index} - {CLASSES[actual_class_index]}\")"
      ],
      "metadata": {
        "colab": {
          "base_uri": "https://localhost:8080/"
        },
        "id": "Ubh52sxXCrIc",
        "outputId": "00944ff9-78ad-4506-83ed-b2e896c53d2f"
      },
      "execution_count": 76,
      "outputs": [
        {
          "output_type": "stream",
          "name": "stdout",
          "text": [
            "Predicted: 2 - monocyte\n",
            "Actual: 2 - monocyte\n"
          ]
        }
      ]
    }
  ]
}